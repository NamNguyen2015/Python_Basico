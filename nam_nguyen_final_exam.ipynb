{
 "cells": [
  {
   "cell_type": "code",
   "execution_count": 38,
   "id": "e882be26-a985-4e89-be2e-14d381c490f2",
   "metadata": {},
   "outputs": [],
   "source": [
    "import numpy as np\n",
    "import os\n",
    "import pandas as pd\n",
    "import sys\n",
    "import matplotlib.pyplot as plt\n",
    "from random import *\n",
    "import ipywidgets as widgets\n",
    "from getpass import getpass\n",
    "from IPython.display import display\n",
    "\n",
    "\n",
    "def menu():\n",
    "    #option = \"Chose an option form 1 to 4 to start the game \\n\"\n",
    "    #print('Chose an option')\n",
    "    print(\"Menu\")\n",
    "    print(\"\\t1. One player\")\n",
    "    print(\"\\t2. Two players\")\n",
    "    print(\"\\t3. Statistics\")\n",
    "    print(\"\\t4. Out\")\n",
    "   \n",
    "    option = int(input(\"\\nChose an option form 1 to 4 to start the game \\n\"))\n",
    "\n",
    "    while option < 1 or option > 4:\n",
    "        print(\"\\n Invalid option. Chose another option form 1 to 4 to start the game \\n \")      \n",
    "        option = int(input())\n",
    "\n",
    "    if option == 1:\n",
    "        print(\"Single player. Let's go!\")\n",
    "        Single_player_games()\n",
    "    elif option == 2:\n",
    "        print(\"Two players. Let's go\")\n",
    "        Two_players_games()\n",
    "    elif option == 3:\n",
    "        print(Statistics)\n",
    "        Statistics()\n",
    "    elif option == 4:\n",
    "        Out()\n",
    "        \n",
    "def Out():\n",
    "    print('Goodbye!')\n",
    "    sys.exit()\n",
    "    \n",
    "def Random_number():  \n",
    "    num = randint(1,1000)\n",
    "    return(num)      \n",
    "    \n",
    "def Single_player_games():\n",
    "    \n",
    "    select_level = \"\"  \n",
    "    print(\"Chose a level\")\n",
    "    \n",
    "    print(\"\\t1.Easy: 20 attempts\")\n",
    "    print(\"\\t2.Medium: 12 attempts\")\n",
    "    print(\"\\t3.Difficult: 5 attempts\")\n",
    "    select_level = int(input())\n",
    "    \n",
    "    while select_level < 1 or select_level > 3:\n",
    "        print(\"\\nInvalid selection\\n\")\n",
    "      \n",
    "        select_level = int(input('Select a level '))\n",
    "    \n",
    "    if select_level == 1:\n",
    "        print('Easy level')\n",
    "        easy_one()\n",
    "    if select_level == 2:\n",
    "        print('Medium level')\n",
    "        medium_one()\n",
    "    if select_level == 3:\n",
    "        print('Difficult level')\n",
    "        difficult_one()\n",
    "\n",
    "        \n",
    "def level(max_attempt, num):\n",
    "    total_point=0\n",
    "    \n",
    "    print('Input your number')\n",
    "    playerNum=int(input())\n",
    "    k=1 # attempt times    \n",
    "    while k<=max_attempt:       \n",
    "        if playerNum > num:\n",
    "            print('Expected number is smaller than your number. Try again!')\n",
    "            playerNum = int(input())\n",
    "            k+=1\n",
    "        elif playerNum < num:\n",
    "            print('Expected number is larger than your number. Try again!')\n",
    "            playerNum=int(input())\n",
    "            k+=1\n",
    "        else:\n",
    "            print(str(playerNum) +' is correct number. Congratulations!')\n",
    "            total_point=int(1000/k)\n",
    "            print('You get '+ str(total_point))\n",
    "            print('Continue playing?')\n",
    "            menu()\n",
    "           \n",
    "    else:\n",
    "        print('Game Over')\n",
    "        total_point=0\n",
    "        print('You get '+ str(total_point))\n",
    "\n",
    "  # Save results to excel.      \n",
    "    print('Enter your name')\n",
    "    name = input()   \n",
    "    df_results = pd.DataFrame(columns=[\"Name\", \"Points\", \"Clasification\"])\n",
    "    df_results['Name'].append(name)\n",
    "    df_results['Points'].append(total_point)\n",
    "    df_results.to_excel(\"results.xlsx\", index=False)\n",
    "    print('DataFrame is written to Excel File successfully.')    \n",
    "    \n",
    "    \n",
    "        \n",
    "        \n",
    "\n",
    "def nivel_one_player(max_attempt): \n",
    "    print('Random number from mechine:')\n",
    "    num= Random_number()\n",
    "    print(num)\n",
    "    level(max_attempt,num) \n",
    "\n",
    "def nivel_two_players(max_attempt): \n",
    "    print('Number to attempt in range of 1 to 1000')\n",
    "    num=int(getpass())\n",
    "    if num in range(1,1001):\n",
    "        print(\"number is acceptable\")\n",
    "    else:\n",
    "        print(\"out of range\")\n",
    "    level(max_attempt,num)\n",
    "    \n",
    "    \n",
    "def easy_one():\n",
    "    nivel_one_player(20)\n",
    "def medium_one():\n",
    "    nivel_one_player(12)\n",
    "def difficult_one():\n",
    "    nivel_one_player(5)\n",
    "    \n",
    "#*******************\n",
    "\n",
    "def Two_players_games():\n",
    "    select_level = \"\"  \n",
    "    print(\"Chose a level\")\n",
    "    \n",
    "    print(\"\\t1.Easy: 20 attempts\")\n",
    "    print(\"\\t2.Medium: 12 attempts\")\n",
    "    print(\"\\t3.Difficult: 5 attempts\")\n",
    "    select_level = int(input())\n",
    "    \n",
    "    while select_level < 1 or select_level > 3:\n",
    "        print(\"\\nInvalid selection\\n\")\n",
    "      \n",
    "        select_level = int(input('Select a level '))\n",
    "    \n",
    "    if select_level == 1:\n",
    "        print('Easy level')\n",
    "        easy_two()\n",
    "    if select_level == 2:\n",
    "        print('Medium level')\n",
    "        medium_two()\n",
    "    if select_level == 3:\n",
    "        print('Difficult level')\n",
    "        difficult_two()\n",
    "              \n",
    "def easy_two():\n",
    "    nivel_two_players(20)\n",
    "def medium_two():\n",
    "    nivel_two_players(12)\n",
    "def difficult_two():\n",
    "    nivel_two_players(5)\n",
    "    \n",
    "    \n",
    "    \n",
    "\n",
    "    \n",
    "      \n",
    "    \n",
    "    \n",
    "    \n",
    "    \n",
    "\n",
    "\n",
    "\n",
    "    \n",
    "\n",
    "    \n",
    "\n"
   ]
  },
  {
   "cell_type": "code",
   "execution_count": null,
   "id": "6c3c974e-ca90-4fe6-9f24-3a260418cdf8",
   "metadata": {},
   "outputs": [
    {
     "name": "stdout",
     "output_type": "stream",
     "text": [
      "Menu\n",
      "\t1. One player\n",
      "\t2. Two players\n",
      "\t3. Statistics\n",
      "\t4. Out\n"
     ]
    },
    {
     "name": "stdin",
     "output_type": "stream",
     "text": [
      "\n",
      "Chose an option form 1 to 4 to start the game \n",
      " 1\n"
     ]
    },
    {
     "name": "stdout",
     "output_type": "stream",
     "text": [
      "Single player. Let's go!\n",
      "Chose a level\n",
      "\t1.Easy: 20 attempts\n",
      "\t2.Medium: 12 attempts\n",
      "\t3.Difficult: 5 attempts\n"
     ]
    },
    {
     "name": "stdin",
     "output_type": "stream",
     "text": [
      " 2\n"
     ]
    },
    {
     "name": "stdout",
     "output_type": "stream",
     "text": [
      "Medium level\n",
      "Random number from mechine:\n",
      "16\n",
      "Input your number\n"
     ]
    },
    {
     "name": "stdin",
     "output_type": "stream",
     "text": [
      " 23\n"
     ]
    },
    {
     "name": "stdout",
     "output_type": "stream",
     "text": [
      "Expected number is smaller than your number. Try again!\n"
     ]
    },
    {
     "name": "stdin",
     "output_type": "stream",
     "text": [
      " 34\n"
     ]
    },
    {
     "name": "stdout",
     "output_type": "stream",
     "text": [
      "Expected number is smaller than your number. Try again!\n"
     ]
    },
    {
     "name": "stdin",
     "output_type": "stream",
     "text": [
      " 1\n"
     ]
    },
    {
     "name": "stdout",
     "output_type": "stream",
     "text": [
      "Expected number is larger than your number. Try again!\n"
     ]
    },
    {
     "name": "stdin",
     "output_type": "stream",
     "text": [
      " 16\n"
     ]
    },
    {
     "name": "stdout",
     "output_type": "stream",
     "text": [
      "16 is correct number. Congratulations!\n",
      "You get 250\n",
      "Continue playing?\n",
      "Menu\n",
      "\t1. One player\n",
      "\t2. Two players\n",
      "\t3. Statistics\n",
      "\t4. Out\n"
     ]
    }
   ],
   "source": [
    "menu()"
   ]
  },
  {
   "cell_type": "code",
   "execution_count": 12,
   "id": "0abf5c4e-9fc2-4062-992f-f4d2869b175c",
   "metadata": {},
   "outputs": [
    {
     "name": "stdin",
     "output_type": "stream",
     "text": [
      " dfsd\n"
     ]
    }
   ],
   "source": [
    "name= input()"
   ]
  },
  {
   "cell_type": "code",
   "execution_count": null,
   "id": "5eaac720-7eaa-4a2c-9dce-4fdfcd48510c",
   "metadata": {},
   "outputs": [],
   "source": []
  }
 ],
 "metadata": {
  "kernelspec": {
   "display_name": "Python 3 (ipykernel)",
   "language": "python",
   "name": "python3"
  },
  "language_info": {
   "codemirror_mode": {
    "name": "ipython",
    "version": 3
   },
   "file_extension": ".py",
   "mimetype": "text/x-python",
   "name": "python",
   "nbconvert_exporter": "python",
   "pygments_lexer": "ipython3",
   "version": "3.9.12"
  }
 },
 "nbformat": 4,
 "nbformat_minor": 5
}
